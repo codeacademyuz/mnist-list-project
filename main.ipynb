{
 "cells": [
  {
   "cell_type": "code",
   "execution_count": 77,
   "metadata": {},
   "outputs": [],
   "source": [
    "import csv\n",
    "import matplotlib.pyplot as plt\n",
    "import numpy as np\n"
   ]
  },
  {
   "cell_type": "code",
   "execution_count": 68,
   "metadata": {},
   "outputs": [],
   "source": [
    "path = 'data.csv'"
   ]
  },
  {
   "cell_type": "code",
   "execution_count": 69,
   "metadata": {},
   "outputs": [],
   "source": [
    "def read_csv(path:str)->list:\n",
    "    \"\"\"\n",
    "    Read the csv file and return the data as a list\n",
    "\n",
    "    Args:\n",
    "        path(str): path to the csv file\n",
    "\n",
    "    Returns:\n",
    "        list: list of data\n",
    "    \"\"\"\n",
    "    with open(path, 'r') as file:\n",
    "        reader = csv.reader(file, delimiter=',')\n",
    "        data = list(reader)\n",
    "        data = [int(i[0]) for i in data[0]]\n",
    "    return data"
   ]
  },
  {
   "cell_type": "code",
   "execution_count": 70,
   "metadata": {},
   "outputs": [],
   "source": [
    "data = read_csv(path)"
   ]
  },
  {
   "cell_type": "code",
   "execution_count": 71,
   "metadata": {},
   "outputs": [],
   "source": [
    "def reshape_list(data:list)->list:\n",
    "    \"\"\"\n",
    "    Reshape the list of data into a list of lists.\n",
    "    label is the first element of the list.\n",
    "\n",
    "    Args:\n",
    "        data(list): list of data\n",
    "    \n",
    "    Returns:\n",
    "        list: 28x28 nested list\n",
    "        label: label of the data\n",
    "    \"\"\"\n",
    "    reshaped_data = []\n",
    "    label = data[0]\n",
    "    for row in range(1, len(data), 28):\n",
    "        reshaped_data.append(data[row:row+28])\n",
    "\n",
    "    return reshaped_data, label\n"
   ]
  },
  {
   "cell_type": "code",
   "execution_count": 72,
   "metadata": {},
   "outputs": [],
   "source": [
    "reshaped_data, label = reshape_list(data)"
   ]
  },
  {
   "cell_type": "code",
   "execution_count": 62,
   "metadata": {},
   "outputs": [],
   "source": [
    "def plot_image(data:list, label:str):\n",
    "    \"\"\"\n",
    "    Plot the image of the list of data\n",
    "\n",
    "    Args:\n",
    "        data(list): list of data\n",
    "        label(str): label of the data\n",
    "    \"\"\"\n",
    "    plt.imshow(data, cmap='gray')\n",
    "    plt.title(f\"label: {label}\")\n",
    "    plt.show()"
   ]
  },
  {
   "cell_type": "code",
   "execution_count": null,
   "metadata": {},
   "outputs": [],
   "source": [
    "plot_image(reshaped_data, label)"
   ]
  },
  {
   "cell_type": "code",
   "execution_count": null,
   "metadata": {},
   "outputs": [],
   "source": []
  }
 ],
 "metadata": {
  "kernelspec": {
   "display_name": "venv",
   "language": "python",
   "name": "python3"
  },
  "language_info": {
   "codemirror_mode": {
    "name": "ipython",
    "version": 3
   },
   "file_extension": ".py",
   "mimetype": "text/x-python",
   "name": "python",
   "nbconvert_exporter": "python",
   "pygments_lexer": "ipython3",
   "version": "3.11.7"
  }
 },
 "nbformat": 4,
 "nbformat_minor": 2
}
